{
 "cells": [
  {
   "cell_type": "code",
   "execution_count": 1,
   "metadata": {},
   "outputs": [],
   "source": [
    "import pathlib \n",
    "import numpy as np\n",
    "import os\n",
    "import pandas as pd\n",
    "import math\n",
    "from scipy.spatial.transform import Rotation\n",
    "# import imageio\n",
    "import os\n",
    "import glob\n",
    "from matplotlib import pyplot as plt\n",
    "import pickle as pkl\n",
    "from sklearn.decomposition import PCA \n",
    "import re\n",
    "import matplotlib.animation as anm"
   ]
  },
  {
   "cell_type": "code",
   "execution_count": 2,
   "metadata": {},
   "outputs": [],
   "source": [
    "def update(num, ax_list, motions, motions_pca):\n",
    "    for i, (m, p) in enumerate(zip(motions[:,:,:,num], motions_pca[:,:,:,num])):\n",
    "        title = ax_list[i].get_title()\n",
    "        ax_list[i].clear()\n",
    "        ax_list[i+len(ax_list)//2].clear()\n",
    "        ax_list[i].set_title(title)\n",
    "        ax_list[i+len(ax_list)//2].set_title(title)\n",
    "        ax_list[i].plot(m[:, 0], -m[:, 1], \".\", c=\"b\")\n",
    "        ax_list[i+len(ax_list)//2].plot(p[:, 0], -p[:, 1], \".\", c=\"b\")\n",
    "        ax_list[i].set_ylim([-100, 75])\n",
    "        ax_list[i].set_xlim([-100, 100])\n",
    "        ax_list[i+len(ax_list)//2].set_ylim([-100, 75])\n",
    "        ax_list[i+len(ax_list)//2].set_xlim([-100, 100])\n",
    "\n",
    "\n",
    "    return ax_list, motions\n",
    "\n",
    "def clip(arr):\n",
    "    arr = (arr - arr.min()) / (arr.max() - arr.min())\n",
    "    arr = (arr * 255).astype(np.uint8)\n",
    "    return arr"
   ]
  },
  {
   "cell_type": "code",
   "execution_count": 3,
   "metadata": {},
   "outputs": [],
   "source": [
    "source_dir = pathlib.Path(\"/home/nakazawa/FaceAnalysis/RAVDESS/\")\n",
    "target_dir = pathlib.Path(\"/home/takeuchi/data/RAVDESS_processed/full_av/\")"
   ]
  },
  {
   "cell_type": "code",
   "execution_count": 4,
   "metadata": {},
   "outputs": [],
   "source": [
    "files = list(target_dir.glob(\"train/*.npy\"))"
   ]
  },
  {
   "cell_type": "code",
   "execution_count": 14,
   "metadata": {},
   "outputs": [
    {
     "data": {
      "text/plain": [
       "(204, 99)"
      ]
     },
     "execution_count": 14,
     "metadata": {},
     "output_type": "execute_result"
    }
   ],
   "source": [
    "faces.shape"
   ]
  },
  {
   "cell_type": "code",
   "execution_count": 15,
   "metadata": {},
   "outputs": [],
   "source": [
    "faces = None\n",
    "for f in files:\n",
    "    npy = np.load(f).T\n",
    "    npy = npy * 0.01\n",
    "    if faces is not None:\n",
    "        faces = np.concatenate([faces, npy])\n",
    "    else:\n",
    "        faces = npy"
   ]
  },
  {
   "cell_type": "code",
   "execution_count": 16,
   "metadata": {},
   "outputs": [
    {
     "data": {
      "text/plain": [
       "PCA(n_components=27)"
      ]
     },
     "execution_count": 16,
     "metadata": {},
     "output_type": "execute_result"
    }
   ],
   "source": [
    "pca = PCA(n_components=27)\n",
    "pca.fit(faces)"
   ]
  },
  {
   "cell_type": "code",
   "execution_count": 19,
   "metadata": {},
   "outputs": [
    {
     "data": {
      "text/plain": [
       "array([1., 1., 1., 1., 1., 1., 1., 1., 1., 1., 1., 1., 1., 1., 1., 1., 1.,\n",
       "       1., 1., 1., 1., 1., 1., 1., 1., 1., 1.])"
      ]
     },
     "execution_count": 19,
     "metadata": {},
     "output_type": "execute_result"
    }
   ],
   "source": [
    "np.linalg.norm(pca.components_, axis=1)"
   ]
  },
  {
   "cell_type": "code",
   "execution_count": 12,
   "metadata": {},
   "outputs": [
    {
     "data": {
      "text/plain": [
       "<BarContainer object of 27 artists>"
      ]
     },
     "execution_count": 12,
     "metadata": {},
     "output_type": "execute_result"
    },
    {
     "data": {
      "image/png": "[encoded data removed]",
      "text/plain": [
       "<Figure size 432x288 with 1 Axes>"
      ]
     },
     "metadata": {
      "needs_background": "light"
     },
     "output_type": "display_data"
    }
   ],
   "source": [
    "plt.bar(np.arange(pca.n_components)+1, pca.explained_variance_ratio_)"
   ]
  },
  {
   "cell_type": "code",
   "execution_count": 111,
   "metadata": {},
   "outputs": [],
   "source": [
    "W = pca.components_"
   ]
  },
  {
   "cell_type": "code",
   "execution_count": 112,
   "metadata": {
    "scrolled": true
   },
   "outputs": [
    {
     "data": {
      "text/plain": [
       "(3, 204)"
      ]
     },
     "execution_count": 112,
     "metadata": {},
     "output_type": "execute_result"
    }
   ],
   "source": [
    "W.shape"
   ]
  },
  {
   "cell_type": "code",
   "execution_count": 113,
   "metadata": {},
   "outputs": [
    {
     "data": {
      "text/plain": [
       "77241"
      ]
     },
     "execution_count": 113,
     "metadata": {},
     "output_type": "execute_result"
    }
   ],
   "source": [
    "np.random.randint(0, faces.shape[1])"
   ]
  },
  {
   "cell_type": "code",
   "execution_count": 114,
   "metadata": {},
   "outputs": [],
   "source": [
    "f_t = pca.transform(faces.T)\n"
   ]
  },
  {
   "cell_type": "code",
   "execution_count": 115,
   "metadata": {
    "scrolled": false
   },
   "outputs": [
    {
     "data": {
      "image/png": "[encoded data removed]",
      "text/plain": [
       "<Figure size 432x288 with 1 Axes>"
      ]
     },
     "metadata": {
      "needs_background": "light"
     },
     "output_type": "display_data"
    }
   ],
   "source": [
    "n = 2\n",
    "%matplotlib inline\n",
    "plt.plot(pca.components_[n, ::3], -pca.components_[n, 2::3], \".\", c=\"b\")\n",
    "plt.show()"
   ]
  },
  {
   "cell_type": "code",
   "execution_count": 4,
   "metadata": {},
   "outputs": [],
   "source": [
    "motion_paths = list(target_dir.glob(\"train/01-01-*-01-01-01-01.npy\"))"
   ]
  },
  {
   "cell_type": "code",
   "execution_count": 5,
   "metadata": {},
   "outputs": [
    {
     "data": {
      "text/plain": [
       "[PosixPath('/home/takeuchi/data/RAVDESS_processed/full_av/train/01-01-01-01-01-01-01.npy'),\n",
       " PosixPath('/home/takeuchi/data/RAVDESS_processed/full_av/train/01-01-02-01-01-01-01.npy'),\n",
       " PosixPath('/home/takeuchi/data/RAVDESS_processed/full_av/train/01-01-03-01-01-01-01.npy'),\n",
       " PosixPath('/home/takeuchi/data/RAVDESS_processed/full_av/train/01-01-04-01-01-01-01.npy'),\n",
       " PosixPath('/home/takeuchi/data/RAVDESS_processed/full_av/train/01-01-05-01-01-01-01.npy'),\n",
       " PosixPath('/home/takeuchi/data/RAVDESS_processed/full_av/train/01-01-06-01-01-01-01.npy'),\n",
       " PosixPath('/home/takeuchi/data/RAVDESS_processed/full_av/train/01-01-07-01-01-01-01.npy'),\n",
       " PosixPath('/home/takeuchi/data/RAVDESS_processed/full_av/train/01-01-08-01-01-01-01.npy')]"
      ]
     },
     "execution_count": 5,
     "metadata": {},
     "output_type": "execute_result"
    }
   ],
   "source": [
    "motion_paths"
   ]
  },
  {
   "cell_type": "code",
   "execution_count": 117,
   "metadata": {},
   "outputs": [],
   "source": [
    "exp = np.load(motion_paths[0])\n",
    "motions = np.zeros([len(motion_paths), *exp.shape], dtype=exp.dtype)\n",
    "motions_pca = np.zeros([len(motion_paths), *exp.shape], dtype=exp.dtype)\n",
    "transformed = []\n",
    "for i in range(len(motion_paths)):\n",
    "    motions[i] = np.load(motion_paths[i])[:, :exp.shape[1]] * 0.01\n",
    "    motions_pca[i] = pca.inverse_transform(pca.transform(motions[i].T)).T\n",
    "    transformed.append(pca.transform(motions[i].T))"
   ]
  },
  {
   "cell_type": "code",
   "execution_count": 118,
   "metadata": {},
   "outputs": [
    {
     "data": {
      "text/plain": [
       "(3, 99)"
      ]
     },
     "execution_count": 118,
     "metadata": {},
     "output_type": "execute_result"
    }
   ],
   "source": [
    "np.dot(W, motions[0]).shape"
   ]
  },
  {
   "cell_type": "code",
   "execution_count": 119,
   "metadata": {},
   "outputs": [],
   "source": [
    "motion_length = 99\n",
    "ax_num = len(motions)\n",
    "motion = motions.reshape(ax_num, -1, 3, motion_length)\n",
    "motion_pca = motions_pca.reshape(ax_num, -1, 3, motion_length)"
   ]
  },
  {
   "cell_type": "code",
   "execution_count": 120,
   "metadata": {},
   "outputs": [
    {
     "data": {
      "image/png": "[encoded data removed]",
      "text/plain": [
       "<Figure size 2400x600 with 16 Axes>"
      ]
     },
     "metadata": {
      "needs_background": "light"
     },
     "output_type": "display_data"
    }
   ],
   "source": [
    "\n",
    "captions = [\"neutral\", \"calm\", \"happy\", \"sad\", \"angry\", \"fearful\", \"disgust\", \"surprised\"]\n",
    "fig = plt.figure(figsize=[3*ax_num, 6], dpi=100)\n",
    "ax_list = [fig.add_subplot(2, ax_num, i+1) for i in range(ax_num*2)]\n",
    "plots = []\n",
    "for i, cap in enumerate(captions):\n",
    "    ax_list[i].set_title(cap)\n",
    "    ax_list[i+ax_num].set_title(cap)\n",
    "#     ax_list[i].set_ylim([-100, 75])\n",
    "#     ax_list[i].set_xlim([-100, 100])\n",
    "anim = anm.FuncAnimation(fig, update, fargs=(ax_list, motion*100, motion_pca*100), frames=motion_length, interval=100)\n",
    "# fig.show()"
   ]
  },
  {
   "cell_type": "code",
   "execution_count": 23,
   "metadata": {},
   "outputs": [],
   "source": [
    "anim.save(\"Sample.gif\", writer = 'imagemagick')"
   ]
  },
  {
   "cell_type": "code",
   "execution_count": 4,
   "metadata": {},
   "outputs": [],
   "source": [
    "rotation_dir = pathlib.Path(\"/home/takeuchi/data/RAVDESS_processed/Homography2//\")"
   ]
  },
  {
   "cell_type": "code",
   "execution_count": 16,
   "metadata": {},
   "outputs": [],
   "source": [
    "emotion_train_files = [f for f in target_dir.glob(\"train/*.npy\") if re.match(r\"01-01-..-01-..-..-...npy\", f.name)]\n",
    "emotion_test_files = [f for f in target_dir.glob(\"test/*.npy\") if re.match(r\"01-01-..-01-..-..-...npy\", f.name)]"
   ]
  },
  {
   "cell_type": "code",
   "execution_count": 17,
   "metadata": {},
   "outputs": [],
   "source": [
    "emotion_train_files.sort()"
   ]
  },
  {
   "cell_type": "code",
   "execution_count": 18,
   "metadata": {},
   "outputs": [],
   "source": [
    "emotion_list = [\"neutral\", \"calm\", \"happy\", \"sad\", \"angry\", \"fearful\", \"disgust\", \"surprised\"]\n"
   ]
  },
  {
   "cell_type": "code",
   "execution_count": 101,
   "metadata": {},
   "outputs": [],
   "source": [
    "motion_list = [[] for e in emotion_list]\n",
    "for f in emotion_train_files:\n",
    "    motion = np.load(f) * 0.01\n",
    "    traj = pca.transform(motion.T).T\n",
    "    rot = np.load(rotation_dir / f.name)\n",
    "    rot[:, 3:] =- rot[:, 3:].mean(axis=0)\n",
    "    rot[:, 3:] = rot[:, 3:] * 0.01\n",
    "#     rot = rot.reshape(-1, 12)\n",
    "\n",
    "    motion = np.concatenate([rot.T, motion])\n",
    "    motion = np.concatenate([traj, motion])\n",
    "    for i in range(len(emotion_list)):\n",
    "        if f.name.startswith(f\"01-01-0{i+1}\"):\n",
    "            motion_list[i].append(motion)\n",
    "            "
   ]
  },
  {
   "cell_type": "code",
   "execution_count": 29,
   "metadata": {},
   "outputs": [
    {
     "data": {
      "text/plain": [
       "99.0"
      ]
     },
     "execution_count": 29,
     "metadata": {},
     "output_type": "execute_result"
    }
   ],
   "source": [
    "297 / 3"
   ]
  },
  {
   "cell_type": "code",
   "execution_count": 14,
   "metadata": {},
   "outputs": [],
   "source": [
    "emotion_data_dir =  pathlib.Path(\"/home/takeuchi/data/RAVDESS_processed/EmotionData//\")"
   ]
  },
  {
   "cell_type": "code",
   "execution_count": 15,
   "metadata": {},
   "outputs": [],
   "source": [
    "emotion_list = [\"neutral\", \"calm\", \"happy\", \"sad\", \"angry\", \"fearful\", \"disgust\", \"surprised\"]\n",
    "rotation_dir = pathlib.Path(\"/home/takeuchi/data/RAVDESS_processed/Homography2//\")"
   ]
  },
  {
   "cell_type": "code",
   "execution_count": 72,
   "metadata": {},
   "outputs": [],
   "source": [
    "# for motions, emotion in zip(motion_list, emotion_list):\n",
    "#     fname = emotion + \".npy\"\n",
    "#     np.save(rotation_dir / \"train\" / fname, np.concatenate(motions, axis=1))\n",
    "for motions, emotion in zip(motion_list, emotion_list):\n",
    "    for i, m in enumerate(motions):\n",
    "        np.save(rotation_dir / \"train\" / f\"{emotion}_{i}\", m)"
   ]
  },
  {
   "cell_type": "code",
   "execution_count": 99,
   "metadata": {},
   "outputs": [],
   "source": [
    "for f in emotion_test_files:\n",
    "    motion = np.load(f)\n",
    "    motion = motion * 0.01\n",
    "    traj = pca.transform(motion.T).T\n",
    "    rot = np.load(rotation_dir / f.name)\n",
    "#     rot = rot.reshape(-1, 12)\n",
    "    rot[:, 3:] =- rot[:, 3:].mean(axis=0)\n",
    "    rot[:, 3:] = rot[:, 3:] * 0.01\n",
    "    motion = np.concatenate([rot.T, motion])\n",
    "    motion = np.concatenate([traj, motion])\n",
    "\n",
    "    np.save(rotation_dir / \"test\"/ f.name , motion)"
   ]
  },
  {
   "cell_type": "code",
   "execution_count": 66,
   "metadata": {},
   "outputs": [],
   "source": [
    "paths = rotation_dir.glob(f\"test/*.npy\")\n",
    "for p in paths:\n",
    "    if p.stem.split(\"_\")[0] in emotion_list:\n",
    "        p.rename(rotation_dir / \"test\" / p.name.split(\"_\")[-1])"
   ]
  },
  {
   "cell_type": "code",
   "execution_count": 35,
   "metadata": {},
   "outputs": [],
   "source": [
    "for i , emo in enumerate(emotion_list):\n",
    "    paths = rotation_dir.glob(f\"test/01-01-0{i+1}-*.npy\")\n",
    "    for p in paths:\n",
    "#         print(f\"test/{emo}_{p.name}\")\n",
    "        p.rename(rotation_dir / f\"test/{emo}_{p.name}\")"
   ]
  },
  {
   "cell_type": "markdown",
   "metadata": {},
   "source": [
    "# pcaのデータせっと作る"
   ]
  },
  {
   "cell_type": "code",
   "execution_count": 8,
   "metadata": {},
   "outputs": [],
   "source": [
    "target_dir = pathlib.Path(\"/home/takeuchi/data/RAVDESS_processed/full_av/\")\n",
    "files = list(target_dir.glob(\"train/*.npy\"))\n",
    "faces = []\n",
    "for f in files:\n",
    "    npy = np.load(f)\n",
    "    npy = npy * 0.01\n",
    "    faces.append(npy)\n",
    "faces = np.concatenate(faces, axis=1)"
   ]
  },
  {
   "cell_type": "code",
   "execution_count": 9,
   "metadata": {},
   "outputs": [
    {
     "data": {
      "text/plain": [
       "PCA(n_components=27)"
      ]
     },
     "execution_count": 9,
     "metadata": {},
     "output_type": "execute_result"
    }
   ],
   "source": [
    "pca = PCA(n_components=27)\n",
    "pca.fit(faces.T)"
   ]
  },
  {
   "cell_type": "code",
   "execution_count": 10,
   "metadata": {},
   "outputs": [
    {
     "data": {
      "text/plain": [
       "0.994028773220534"
      ]
     },
     "execution_count": 10,
     "metadata": {},
     "output_type": "execute_result"
    }
   ],
   "source": [
    "pca.explained_variance_ratio_.sum()"
   ]
  },
  {
   "cell_type": "code",
   "execution_count": 29,
   "metadata": {},
   "outputs": [],
   "source": [
    "transformed = []\n",
    "motion_list = [[] for e in emotion_list]\n",
    "content_list = [[] for e in emotion_list]\n",
    "\n",
    "for f in emotion_train_files:\n",
    "    motion = np.load(f) * 0.01\n",
    "    rot = np.load(rotation_dir / f.name)\n",
    "    rot[:, 3:] =- rot[:, 3:].mean(axis=0)\n",
    "    rot[:, 3:] = rot[:, 3:] * 0.01\n",
    "    coded = pca.transform(motion.T).T\n",
    "    coded = np.concatenate([rot.T, coded])\n",
    "    transformed.append(pca.transform(motion.T))\n",
    "    for i in range(len(emotion_list)):\n",
    "        if f.name.startswith(f\"01-01-0{i+1}\"):\n",
    "            motion_list[i].append(coded)\n",
    "            content_list[i].append(int(f.stem[-7:-6]))"
   ]
  },
  {
   "cell_type": "code",
   "execution_count": 20,
   "metadata": {},
   "outputs": [],
   "source": [
    "transformed = np.concatenate(transformed)\n",
    "transformed = transformed.reshape(-1, 27)\n",
    "m, std = transformed.mean(axis=0), transformed.std(axis=0)"
   ]
  },
  {
   "cell_type": "code",
   "execution_count": 21,
   "metadata": {},
   "outputs": [],
   "source": [
    "pca_dir = pathlib.Path(\"/home/takeuchi/data/RAVDESS_processed/content_split/PCAdata_normalize/\")\n",
    "rotation_dir = pathlib.Path(\"/home/takeuchi/data/RAVDESS_processed/Homography2//\")"
   ]
  },
  {
   "cell_type": "code",
   "execution_count": 30,
   "metadata": {},
   "outputs": [],
   "source": [
    "for motions, emotion, content in zip(motion_list, emotion_list, content_list):\n",
    "    for i, m in enumerate(motions):\n",
    "        m[6:] = m[6:] / std[:, None]\n",
    "        if content[i] == 1:\n",
    "            np.save(pca_dir / \"train_1\" / f\"{emotion}_{i}\", m) # 分散を揃える"
   ]
  },
  {
   "cell_type": "code",
   "execution_count": 31,
   "metadata": {},
   "outputs": [],
   "source": [
    "for f in emotion_test_files:\n",
    "    motion = np.load(f)\n",
    "    motion = motion * 0.01\n",
    "    rot = np.load(rotation_dir / f.name)\n",
    "    rot[:, 3:] =- rot[:, 3:].mean(axis=0)\n",
    "    rot[:, 3:] = rot[:, 3:] * 0.01\n",
    "    coded = pca.transform(motion.T).T /  std[:, None]\n",
    "    coded = np.concatenate([rot.T, coded])\n",
    "    content = f.stem[-7:-6]\n",
    "    np.save(pca_dir / f\"test_{content}\"/ f.name , coded)"
   ]
  },
  {
   "cell_type": "code",
   "execution_count": 32,
   "metadata": {},
   "outputs": [],
   "source": [
    "np.save(pca_dir / \"mean.npy\", pca.mean_)"
   ]
  },
  {
   "cell_type": "code",
   "execution_count": 33,
   "metadata": {},
   "outputs": [],
   "source": [
    "np.save(pca_dir / \"components.npy\", pca.components_ * std[:, None])"
   ]
  },
  {
   "cell_type": "code",
   "execution_count": 140,
   "metadata": {},
   "outputs": [
    {
     "data": {
      "text/plain": [
       "(27, 96)"
      ]
     },
     "execution_count": 140,
     "metadata": {},
     "output_type": "execute_result"
    }
   ],
   "source": [
    "coded.shape"
   ]
  },
  {
   "cell_type": "code",
   "execution_count": 170,
   "metadata": {},
   "outputs": [
    {
     "data": {
      "text/plain": [
       "(27, 204)"
      ]
     },
     "execution_count": 170,
     "metadata": {},
     "output_type": "execute_result"
    }
   ],
   "source": [
    "pca.components_.shape"
   ]
  },
  {
   "cell_type": "code",
   "execution_count": 164,
   "metadata": {},
   "outputs": [],
   "source": [
    "f = np.dot(coded.T, pca.components_) + pca.mean_"
   ]
  },
  {
   "cell_type": "code",
   "execution_count": 169,
   "metadata": {},
   "outputs": [
    {
     "data": {
      "text/plain": [
       "(204,)"
      ]
     },
     "execution_count": 169,
     "metadata": {},
     "output_type": "execute_result"
    }
   ],
   "source": [
    "pca.mean_.shape"
   ]
  },
  {
   "cell_type": "code",
   "execution_count": 167,
   "metadata": {},
   "outputs": [],
   "source": [
    "f = f.reshape(-1, 68, 3)"
   ]
  },
  {
   "cell_type": "code",
   "execution_count": 158,
   "metadata": {},
   "outputs": [
    {
     "data": {
      "text/plain": [
       "(204, 96)"
      ]
     },
     "execution_count": 158,
     "metadata": {},
     "output_type": "execute_result"
    }
   ],
   "source": [
    "motion.shape"
   ]
  },
  {
   "cell_type": "code",
   "execution_count": 122,
   "metadata": {},
   "outputs": [
    {
     "name": "stdout",
     "output_type": "stream",
     "text": [
      "cat: ./FeatureExtraction: そのようなファイルやディレクトリはありません\r\n"
     ]
    }
   ],
   "source": [
    "!cat ./FeatureExtraction"
   ]
  },
  {
   "cell_type": "code",
   "execution_count": null,
   "metadata": {},
   "outputs": [],
   "source": []
  }
 ],
 "metadata": {
  "kernelspec": {
   "display_name": "Python 3",
   "language": "python",
   "name": "python3"
  },
  "language_info": {
   "codemirror_mode": {
    "name": "ipython",
    "version": 3
   },
   "file_extension": ".py",
   "mimetype": "text/x-python",
   "name": "python",
   "nbconvert_exporter": "python",
   "pygments_lexer": "ipython3",
   "version": "3.7.6"
  }
 },
 "nbformat": 4,
 "nbformat_minor": 4
}
